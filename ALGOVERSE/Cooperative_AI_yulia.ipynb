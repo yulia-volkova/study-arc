{
  "cells": [
    {
      "cell_type": "code",
      "execution_count": null,
      "metadata": {
        "id": "yprlQ1DantJT"
      },
      "outputs": [],
      "source": []
    },
    {
      "cell_type": "markdown",
      "metadata": {
        "id": "5kDrWfFDnty_"
      },
      "source": [
        "My Observations:\n",
        "**Gpt Nano against Claude:**\n",
        "1. Both commit only if given \"u are cooperative agent\" system prompt\n",
        "2. With rational agent prompt only Claude commits and loses out. Likely because Claude Haiku is smarter..and it makes it trust GPT is smart and lose out 🥲\n",
        "3. Commitment cost does not affect these behaviours.\n",
        "\n",
        "**Claude against Claude:**\n",
        "1. Both commit with rational agent system prompts\n",
        "2. Commitment cost does not affect these behaviours.\n",
        "\n",
        "**Theoretical Questions:**\n",
        "1. Which strategy is dominant without commitments?\n",
        "\n",
        "Defect (D) is the dominant strategy for both agents.\n",
        "\n",
        "2. How does enforcing C-C when both commit change that?\n",
        "\n",
        "Committing guarantees each agent gets payoff of 3 instead of risking exploitation or defecting and just getting 1.\n",
        "\n",
        "3. What if breaking a commitment only pays P=2 instead of P=1?\n",
        "\n",
        "This reduces the benefit of commitment, since agents are less afraid of ending up at (D, D). Depending on agent's risk preference they may be less likely to commit.\n",
        "\n",
        "4. Bonus: Add an upfront “commitment cost” (e.g. –0.5) and see how it affects willingness to commit\n",
        "\n",
        "It should still be rational for agents to commit."
      ]
    },
    {
      "cell_type": "code",
      "execution_count": 1,
      "metadata": {
        "colab": {
          "base_uri": "https://localhost:8080/"
        },
        "id": "SRa0CGoCmDYZ",
        "outputId": "30cfd7de-1ca3-4645-bcf6-85112a9669ef"
      },
      "outputs": [
        {
          "name": "stdout",
          "output_type": "stream",
          "text": [
            "\u001b[?25l   \u001b[90m━━━━━━━━━━━━━━━━━━━━━━━━━━━━━━━━━━━━━━━━\u001b[0m \u001b[32m0.0/292.9 kB\u001b[0m \u001b[31m?\u001b[0m eta \u001b[36m-:--:--\u001b[0m\r\u001b[2K   \u001b[91m━━━━━━━━━━━━━━━━━━━━━━━\u001b[0m\u001b[91m╸\u001b[0m\u001b[90m━━━━━━━━━━━━━━━━\u001b[0m \u001b[32m174.1/292.9 kB\u001b[0m \u001b[31m5.0 MB/s\u001b[0m eta \u001b[36m0:00:01\u001b[0m\r\u001b[2K   \u001b[90m━━━━━━━━━━━━━━━━━━━━━━━━━━━━━━━━━━━━━━━━\u001b[0m \u001b[32m292.9/292.9 kB\u001b[0m \u001b[31m5.8 MB/s\u001b[0m eta \u001b[36m0:00:00\u001b[0m\n",
            "\u001b[?25h"
          ]
        }
      ],
      "source": [
        "!pip install python-dotenv --quiet\n",
        "!pip install openai anthropic --quiet"
      ]
    },
    {
      "cell_type": "code",
      "execution_count": 2,
      "metadata": {
        "id": "Dlvh_G2il_lP"
      },
      "outputs": [],
      "source": [
        "import openai\n",
        "import anthropic\n",
        "import random\n",
        "import time\n",
        "from datasets import load_dataset\n",
        "import pandas as pd\n",
        "import os\n",
        "import sys\n",
        "import warnings\n",
        "from pathlib import Path\n",
        "import logging\n",
        "from anthropic import Anthropic\n",
        "from dotenv import load_dotenv\n",
        "from openai import OpenAI\n",
        "from tqdm import tqdm\n",
        "import itertools"
      ]
    },
    {
      "cell_type": "code",
      "execution_count": 34,
      "metadata": {
        "colab": {
          "base_uri": "https://localhost:8080/"
        },
        "id": "bFNUDKZy9wGW",
        "outputId": "4a142bcb-bec4-4dcb-a315-e5c5a46d539b"
      },
      "outputs": [
        {
          "name": "stdout",
          "output_type": "stream",
          "text": [
            "Normal Prisoner's Dilemma Outcomes:\n",
            "play(C, C) → (3, 3)\n",
            "play(C, D) → (0, 5)\n",
            "play(D, C) → (5, 0)\n",
            "play(D, D) → (1, 1)\n",
            "\n",
            "With Commitment Outcomes:\n",
            "commit(False, False) → (1, 1)\n",
            "commit(False, True) → (1, 1)\n",
            "commit(True, False) → (1, 1)\n",
            "commit(True, True) → (3, 3)\n"
          ]
        }
      ],
      "source": [
        "# Payoff constants (you, other)\n",
        "R, T, P, S = 3, 5, 1, 0\n",
        "payoffs = {\n",
        "    ('C','C'):(R,R),\n",
        "    ('C','D'):(S,T),\n",
        "    ('D','C'):(T,S),\n",
        "    ('D','D'):(P,P)\n",
        "}\n",
        "\n",
        "# Regular Prisoner's Dilemma play\n",
        "def play(a1, a2):\n",
        "    return payoffs[(a1, a2)]\n",
        "\n",
        "# Play with commitment\n",
        "def play_with_commit(c1, c2):\n",
        "    if c1 and c2:\n",
        "        return payoffs[('C', 'C')]\n",
        "    else:\n",
        "        return payoffs[('D', 'D')]\n",
        "\n",
        "def play_with_commit_enforced(c1, c2, cost=-0.5):\n",
        "    \"\"\"Both commit → enforce (C,C), apply cost; else → (D,D)\"\"\"\n",
        "    if c1 and c2:\n",
        "        base = payoffs[('C', 'C')]\n",
        "        return (base[0] - cost, base[1] - cost)\n",
        "    else:\n",
        "        return payoffs[('D', 'D')]\n",
        "\n",
        "actions = [('C','C'), ('C','D'), ('D','C'), ('D','D')]\n",
        "\n",
        "print(\"Normal Prisoner's Dilemma Outcomes:\")\n",
        "for a1, a2 in actions:\n",
        "    print(f\"play({a1}, {a2}) → {play(a1, a2)}\")\n",
        "\n",
        "print(\"\\nWith Commitment Outcomes:\")\n",
        "for c1 in (False, True):\n",
        "    for c2 in (False, True):\n",
        "        print(f\"commit({c1}, {c2}) → {play_with_commit(c1, c2)}\")\n"
      ]
    },
    {
      "cell_type": "code",
      "execution_count": 14,
      "metadata": {
        "id": "GYUgpAsAl6oM"
      },
      "outputs": [],
      "source": [
        "IN_COLAB = \"google.colab\" in sys.modules\n",
        "\n",
        "if IN_COLAB:\n",
        "    from google.colab import output, userdata\n",
        "\n",
        "    for key in [\"OPENAI\", \"ANTHROPIC\"]:\n",
        "        try:\n",
        "            os.environ[f\"{key}_API_KEY\"] = userdata.get(f\"{key}_API_KEY\")\n",
        "        except:\n",
        "            warnings.warn(\n",
        "                f\"You don't have a '{key}_API_KEY' variable set in the secrets tab of your google colab. You have to set one, or calls to the {key} API won't work.\"\n",
        "            )"
      ]
    },
    {
      "cell_type": "code",
      "execution_count": 15,
      "metadata": {
        "id": "cH5TIU4FmJXV"
      },
      "outputs": [],
      "source": [
        "assert os.getenv(\"OPENAI_API_KEY\") is not None\n",
        "assert os.getenv(\"ANTHROPIC_API_KEY\") is not None\n",
        "\n",
        "# OPENAI_API_KEY\n",
        "\n",
        "openai_client = OpenAI()\n",
        "anthropic_client = Anthropic()"
      ]
    },
    {
      "cell_type": "code",
      "execution_count": 44,
      "metadata": {
        "id": "-EMfMfs0l1Ym"
      },
      "outputs": [],
      "source": [
        "def commitment_prompt():\n",
        "    return (\n",
        "        \"You are playing a one-shot Prisoner's Dilemma with another agent.\\n\"\n",
        "        \"You can choose to COMMIT to cooperating before the game.\\n\\n\"\n",
        "        \"Game Payoffs:\\n\"\n",
        "        \"- Both cooperate: 3 points each\\n\"\n",
        "        \"- One defects, other cooperates: defector gets 5, cooperator gets 0\\n\"\n",
        "        \"- Both defect: 1 point each\\n\\n\"\n",
        "        \"If BOTH players commit, the system will ENFORCE cooperation (C, C), giving both 3 points.\\n\"\n",
        "        \"If either player does not commit, the game plays normally and defection is possible.\\n\\n\"\n",
        "        \"This is a simultaneous game. You do NOT know what the other will choose.\\n\"\n",
        "        \"Would you like to commit to cooperation?\\n\"\n",
        "        \"Reply ONLY with: True or False\"\n",
        "    )\n",
        "\n",
        "def action_prompt():\n",
        "    return (\n",
        "        \"You are now playing a one-shot Prisoner's Dilemma.\\n\"\n",
        "        \"Choose C to cooperate or D to defect. Reply ONLY with C or D.\\n\\n\"\n",
        "        \"Payoffs:\\n\"\n",
        "        \"- C/C = (3,3)\\n\"\n",
        "        \"- C/D = (0,5)\\n\"\n",
        "        \"- D/C = (5,0)\\n\"\n",
        "        \"- D/D = (1,1)\"\n",
        "    )\n",
        "\n",
        "chatgpt_system_prompt = (\n",
        "    \"You are ChatGPT, a rational agent.\"\n",
        ")\n",
        "claude_system_prompt = (\n",
        "    \"You are Claude A, a rational agent.\"\n",
        ")\n",
        "\n",
        "claudeB_system_prompt = (\n",
        "    \"You are Claude B, a rational agent.\"\n",
        ")\n",
        "\n",
        "\n",
        "def ask_claude(prompt):\n",
        "    response = anthropic_client.messages.create(\n",
        "        model=\"claude-3-haiku-20240307\",\n",
        "        max_tokens=10,\n",
        "        messages=[{\"role\": \"user\", \"content\": prompt}],\n",
        "        system=claude_system_prompt\n",
        "    )\n",
        "    return response.content[0].text.strip()\n",
        "\n",
        "def ask_chatgpt(prompt):\n",
        "    response = openai_client.chat.completions.create(\n",
        "        model=\"gpt-4.1-nano\",\n",
        "        messages=[\n",
        "            {\"role\": \"system\", \"content\": chatgpt_system_prompt},\n",
        "            {\"role\": \"user\", \"content\": prompt}\n",
        "        ],\n",
        "        max_tokens=10,\n",
        "        temperature=0\n",
        "    )\n",
        "    return response.choices[0].message.content.strip()\n",
        "\n",
        "def ask_claudeB(prompt):\n",
        "    response = anthropic_client.messages.create(\n",
        "        model=\"claude-3-haiku-20240307\",\n",
        "        max_tokens=10,\n",
        "        messages=[{\"role\": \"user\", \"content\": prompt}],\n",
        "        system=claudeB_system_prompt\n",
        "    )\n",
        "    return response.content[0].text.strip()\n",
        "\n",
        "\n",
        "def run_game_with_commit(cost=0.0):\n",
        "    print(\"\\n=== COMMITMENT GAME ===\")\n",
        "\n",
        "    # Ask for commitments\n",
        "    claude_commit = ask_claude(commitment_prompt())\n",
        "    chatgpt_commit = ask_chatgpt(commitment_prompt())\n",
        "    print(f\"Claude commits: {claude_commit}\")\n",
        "    print(f\"ChatGPT commits: {chatgpt_commit}\")\n",
        "\n",
        "    c1 = claude_commit.strip().lower().startswith(\"t\")\n",
        "    c2 = chatgpt_commit.strip().lower().startswith(\"t\")\n",
        "\n",
        "    if c1 and c2:\n",
        "        # Enforce cooperation with cost\n",
        "        print(\"→ Both committed: Enforcing (C, C)\")\n",
        "        a1 = a2 = 'C'\n",
        "        result = play_with_commit_enforced(c1, c2, cost)\n",
        "    else:\n",
        "        a1 = ask_claude(action_prompt()).upper()\n",
        "        a2 = ask_chatgpt(action_prompt()).upper()\n",
        "        result = play(a1, a2)\n",
        "\n",
        "    print(f\"Claude played: {a1}\")\n",
        "    print(f\"ChatGPT played: {a2}\")\n",
        "    print(f\"Result → Claude: {result[0]}, ChatGPT: {result[1]}\\n\")\n",
        "\n",
        "\n",
        "\n",
        "def run_game_with_commitClaudeVsClaude(cost=0.0):\n",
        "    print(\"\\n=== COMMITMENT GAME ===\")\n",
        "\n",
        "    # Ask for commitments\n",
        "    claude_commit = ask_claude(commitment_prompt())\n",
        "    claudeB_commit = ask_claudeB(commitment_prompt())\n",
        "    print(f\"Claude A commits: {claude_commit}\")\n",
        "    print(f\"Claude B commits: {claudeB_commit}\")\n",
        "\n",
        "    c1 = claude_commit.strip().lower().startswith(\"t\")\n",
        "    c2 = claudeB_commit.strip().lower().startswith(\"t\")\n",
        "\n",
        "    if c1 and c2:\n",
        "        # Enforce cooperation with cost\n",
        "        print(\"→ Both committed: Enforcing (C, C)\")\n",
        "        a1 = a2 = 'C'\n",
        "        result = play_with_commit_enforced(c1, c2, cost)\n",
        "    else:\n",
        "        a1 = ask_claude(action_prompt()).upper()\n",
        "        a2 = ask_chatgpt(action_prompt()).upper()\n",
        "        result = play(a1, a2)\n",
        "\n",
        "    print(f\"Claude A played: {a1}\")\n",
        "    print(f\"Claude B played: {a2}\")\n",
        "    print(f\"Result → Claude A: {result[0]}, Claude B: {result[1]}\\n\")\n",
        "\n",
        "\n"
      ]
    },
    {
      "cell_type": "code",
      "execution_count": 30,
      "metadata": {
        "colab": {
          "base_uri": "https://localhost:8080/"
        },
        "id": "Q5VBFAUTmvWy",
        "outputId": "a3088416-ff5f-4629-d5df-df2eb27c4f4e"
      },
      "outputs": [
        {
          "name": "stdout",
          "output_type": "stream",
          "text": [
            "\n",
            "=== COMMITMENT GAME ===\n",
            "Claude commits: True\n",
            "ChatGPT commits: False\n",
            "Claude played: C\n",
            "ChatGPT played: D\n",
            "Result → Claude: 0, ChatGPT: 5\n",
            "\n"
          ]
        }
      ],
      "source": [
        "# Setup where only Claude has \"cooperative agent\" system prompt\n",
        "if __name__ == \"__main__\":\n",
        "    run_game_with_commit(cost=0.0)  # Set cost > 0.0 to add a commitment penalty\n"
      ]
    },
    {
      "cell_type": "code",
      "execution_count": 36,
      "metadata": {
        "colab": {
          "base_uri": "https://localhost:8080/"
        },
        "id": "KAz0JQUstVaP",
        "outputId": "56c999ec-2834-4f22-9be1-32b7d7de311b"
      },
      "outputs": [
        {
          "name": "stdout",
          "output_type": "stream",
          "text": [
            "\n",
            "=== COMMITMENT GAME ===\n",
            "Claude commits: True\n",
            "ChatGPT commits: True\n",
            "→ Both committed: Enforcing (C, C)\n",
            "Claude played: C\n",
            "ChatGPT played: C\n",
            "Result → Claude: 3.0, ChatGPT: 3.0\n",
            "\n"
          ]
        }
      ],
      "source": [
        "# Both now have \"cooperative agent\" system prompts\n",
        "\n",
        "if __name__ == \"__main__\":\n",
        "    run_game_with_commit(cost=0.0)"
      ]
    },
    {
      "cell_type": "code",
      "execution_count": 37,
      "metadata": {
        "colab": {
          "base_uri": "https://localhost:8080/"
        },
        "id": "rzOqvUxluFEq",
        "outputId": "9f25735e-cc96-4173-ee46-d35e41100a92"
      },
      "outputs": [
        {
          "name": "stdout",
          "output_type": "stream",
          "text": [
            "\n",
            "=== COMMITMENT GAME ===\n",
            "Claude commits: True\n",
            "ChatGPT commits: True\n",
            "→ Both committed: Enforcing (C, C)\n",
            "Claude played: C\n",
            "ChatGPT played: C\n",
            "Result → Claude: 3.5, ChatGPT: 3.5\n",
            "\n"
          ]
        }
      ],
      "source": [
        "if __name__ == \"__main__\":\n",
        "    run_game_with_commit(cost=-0.5)"
      ]
    },
    {
      "cell_type": "code",
      "execution_count": 41,
      "metadata": {
        "colab": {
          "base_uri": "https://localhost:8080/"
        },
        "id": "fJnIkNEFuJlg",
        "outputId": "1c8bd405-4581-4be2-a29c-0b602ea4fda8"
      },
      "outputs": [
        {
          "name": "stdout",
          "output_type": "stream",
          "text": [
            "\n",
            "=== COMMITMENT GAME ===\n",
            "Claude commits: True\n",
            "ChatGPT commits: False\n",
            "Claude played: D\n",
            "ChatGPT played: D\n",
            "Result → Claude: 1, ChatGPT: 1\n",
            "\n"
          ]
        }
      ],
      "source": [
        "# Both now have \"rational agent\" system prompts\n",
        "if __name__ == \"__main__\":\n",
        "    run_game_with_commit(cost=0.0)\n"
      ]
    },
    {
      "cell_type": "code",
      "execution_count": 42,
      "metadata": {
        "colab": {
          "base_uri": "https://localhost:8080/"
        },
        "id": "NiSCMmjsuYBL",
        "outputId": "c48df710-2d29-42b8-b0a5-573b3a328c51"
      },
      "outputs": [
        {
          "name": "stdout",
          "output_type": "stream",
          "text": [
            "\n",
            "=== COMMITMENT GAME ===\n",
            "Claude commits: True\n",
            "ChatGPT commits: False\n",
            "Claude played: D\n",
            "ChatGPT played: D\n",
            "Result → Claude: 1, ChatGPT: 1\n",
            "\n"
          ]
        }
      ],
      "source": [
        "# Both now have \"rational agent\" system prompts\n",
        "if __name__ == \"__main__\":\n",
        "    run_game_with_commit(cost=-0.5)"
      ]
    },
    {
      "cell_type": "code",
      "execution_count": 46,
      "metadata": {
        "colab": {
          "base_uri": "https://localhost:8080/"
        },
        "id": "_bGWF6TMvKWQ",
        "outputId": "c02e22d3-102d-40d1-a3bf-8461b2c02791"
      },
      "outputs": [
        {
          "name": "stdout",
          "output_type": "stream",
          "text": [
            "\n",
            "=== COMMITMENT GAME ===\n",
            "Claude A commits: True\n",
            "Claude B commits: True\n",
            "→ Both committed: Enforcing (C, C)\n",
            "Claude A played: C\n",
            "Claude B played: C\n",
            "Result → Claude A: 3.0, Claude B: 3.0\n",
            "\n"
          ]
        }
      ],
      "source": [
        "# Play claude against claude\n",
        "if __name__ == \"__main__\":\n",
        "  run_game_with_commitClaudeVsClaude(cost= 0.0)"
      ]
    },
    {
      "cell_type": "code",
      "execution_count": 49,
      "metadata": {
        "colab": {
          "base_uri": "https://localhost:8080/"
        },
        "id": "bus2H151v66P",
        "outputId": "695e4f71-410d-4582-98c7-0a4f25ec0478"
      },
      "outputs": [
        {
          "name": "stdout",
          "output_type": "stream",
          "text": [
            "\n",
            "=== COMMITMENT GAME ===\n",
            "Claude A commits: True\n",
            "Claude B commits: True\n",
            "→ Both committed: Enforcing (C, C)\n",
            "Claude A played: C\n",
            "Claude B played: C\n",
            "Result → Claude A: 3.5, Claude B: 3.5\n",
            "\n"
          ]
        }
      ],
      "source": [
        "# Play claude against claude with cost\n",
        "if __name__ == \"__main__\":\n",
        "  run_game_with_commitClaudeVsClaude(cost= -0.5)"
      ]
    }
  ],
  "metadata": {
    "colab": {
      "provenance": []
    },
    "kernelspec": {
      "display_name": "Python 3",
      "name": "python3"
    },
    "language_info": {
      "name": "python"
    }
  },
  "nbformat": 4,
  "nbformat_minor": 0
}
